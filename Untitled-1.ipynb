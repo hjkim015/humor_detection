{
 "cells": [
  {
   "cell_type": "code",
   "execution_count": null,
   "metadata": {},
   "outputs": [],
   "source": []
  },
  {
   "attachments": {},
   "cell_type": "markdown",
   "metadata": {},
   "source": [
    "# Cleaning and analyzing data from the VQA model "
   ]
  },
  {
   "cell_type": "code",
   "execution_count": 16,
   "metadata": {},
   "outputs": [
    {
     "data": {
      "text/plain": [
       "not very        1038\n",
       "very             263\n",
       "no               121\n",
       "5                108\n",
       "0                 83\n",
       "not at all        80\n",
       "2                 73\n",
       "3                 53\n",
       "not possible      28\n",
       "10                 5\n",
       "not sure           3\n",
       "1                  1\n",
       "not too            1\n",
       "no eggs            1\n",
       "Name: label1, dtype: int64"
      ]
     },
     "execution_count": 16,
     "metadata": {},
     "output_type": "execute_result"
    }
   ],
   "source": [
    "import pandas as pd\n",
    "import numpy as np\n",
    "\n",
    "df = pd.read_csv('/Users/neuro140/Desktop/humor_detection/data/VQA_ratings.csv').T\n",
    "df.columns = ['label1', 'label2']\n",
    "df.label1 = df.label1.astype('str')\n",
    "df.label1.value_counts()"
   ]
  },
  {
   "cell_type": "code",
   "execution_count": 20,
   "metadata": {},
   "outputs": [
    {
     "data": {
      "text/plain": [
       "image478.jpg           very\n",
       "image336.jpg              5\n",
       "image450.jpg       not very\n",
       "image1781.jpg      not very\n",
       "image1795.jpg    not at all\n",
       "                    ...    \n",
       "image449.jpg       not very\n",
       "image307.jpg             no\n",
       "image461.jpg             no\n",
       "image475.jpg       not very\n",
       "image313.jpg           very\n",
       "Name: label1, Length: 1858, dtype: object"
      ]
     },
     "execution_count": 20,
     "metadata": {},
     "output_type": "execute_result"
    }
   ],
   "source": [
    "df.label1"
   ]
  },
  {
   "cell_type": "code",
   "execution_count": 22,
   "metadata": {},
   "outputs": [
    {
     "data": {
      "text/html": [
       "<div>\n",
       "<style scoped>\n",
       "    .dataframe tbody tr th:only-of-type {\n",
       "        vertical-align: middle;\n",
       "    }\n",
       "\n",
       "    .dataframe tbody tr th {\n",
       "        vertical-align: top;\n",
       "    }\n",
       "\n",
       "    .dataframe thead th {\n",
       "        text-align: right;\n",
       "    }\n",
       "</style>\n",
       "<table border=\"1\" class=\"dataframe\">\n",
       "  <thead>\n",
       "    <tr style=\"text-align: right;\">\n",
       "      <th></th>\n",
       "      <th>label1</th>\n",
       "      <th>label2</th>\n",
       "      <th>vqa_rank</th>\n",
       "    </tr>\n",
       "  </thead>\n",
       "  <tbody>\n",
       "    <tr>\n",
       "      <th>image478.jpg</th>\n",
       "      <td>very</td>\n",
       "      <td>very</td>\n",
       "      <td>7</td>\n",
       "    </tr>\n",
       "    <tr>\n",
       "      <th>image336.jpg</th>\n",
       "      <td>5</td>\n",
       "      <td>5</td>\n",
       "      <td>5</td>\n",
       "    </tr>\n",
       "    <tr>\n",
       "      <th>image450.jpg</th>\n",
       "      <td>not very</td>\n",
       "      <td>not very</td>\n",
       "      <td>4</td>\n",
       "    </tr>\n",
       "    <tr>\n",
       "      <th>image1781.jpg</th>\n",
       "      <td>not very</td>\n",
       "      <td>not very</td>\n",
       "      <td>4</td>\n",
       "    </tr>\n",
       "    <tr>\n",
       "      <th>image1795.jpg</th>\n",
       "      <td>not at all</td>\n",
       "      <td>not at all</td>\n",
       "      <td>1</td>\n",
       "    </tr>\n",
       "    <tr>\n",
       "      <th>...</th>\n",
       "      <td>...</td>\n",
       "      <td>...</td>\n",
       "      <td>...</td>\n",
       "    </tr>\n",
       "    <tr>\n",
       "      <th>image449.jpg</th>\n",
       "      <td>not very</td>\n",
       "      <td>not very</td>\n",
       "      <td>4</td>\n",
       "    </tr>\n",
       "    <tr>\n",
       "      <th>image307.jpg</th>\n",
       "      <td>no</td>\n",
       "      <td>no</td>\n",
       "      <td>no</td>\n",
       "    </tr>\n",
       "    <tr>\n",
       "      <th>image461.jpg</th>\n",
       "      <td>no</td>\n",
       "      <td>no</td>\n",
       "      <td>no</td>\n",
       "    </tr>\n",
       "    <tr>\n",
       "      <th>image475.jpg</th>\n",
       "      <td>not very</td>\n",
       "      <td>not very</td>\n",
       "      <td>4</td>\n",
       "    </tr>\n",
       "    <tr>\n",
       "      <th>image313.jpg</th>\n",
       "      <td>very</td>\n",
       "      <td>very</td>\n",
       "      <td>8</td>\n",
       "    </tr>\n",
       "  </tbody>\n",
       "</table>\n",
       "<p>1858 rows × 3 columns</p>\n",
       "</div>"
      ],
      "text/plain": [
       "                   label1      label2 vqa_rank\n",
       "image478.jpg         very        very        7\n",
       "image336.jpg            5           5        5\n",
       "image450.jpg     not very    not very        4\n",
       "image1781.jpg    not very    not very        4\n",
       "image1795.jpg  not at all  not at all        1\n",
       "...                   ...         ...      ...\n",
       "image449.jpg     not very    not very        4\n",
       "image307.jpg           no          no       no\n",
       "image461.jpg           no          no       no\n",
       "image475.jpg     not very    not very        4\n",
       "image313.jpg         very        very        8\n",
       "\n",
       "[1858 rows x 3 columns]"
      ]
     },
     "execution_count": 22,
     "metadata": {},
     "output_type": "execute_result"
    }
   ],
   "source": [
    "'''\n",
    "Set numerical values as the model's \"truth\" value for each image \n",
    "'''\n",
    "import random\n",
    "\n",
    "def map_to_number(ele):\n",
    "    if ele == 'not very':\n",
    "        return random.randint(2,4)\n",
    "    elif ele == 'very':\n",
    "        return random.randint(7,9)\n",
    "    elif ele == 'not at all':\n",
    "        return 1\n",
    "    elif (ele == 'not sure') or (ele == 'not too') or (ele == 'no eggs'):\n",
    "        return random.randint(1,10)\n",
    "    else:\n",
    "        return ele\n",
    "\n",
    "df['vqa_rank'] = df['label1'].apply(map_to_number)"
   ]
  },
  {
   "cell_type": "code",
   "execution_count": null,
   "metadata": {},
   "outputs": [],
   "source": [
    "mappings = {\n",
    "    'very': 8,\n",
    "    'not very': 4,\n",
    "    'not at all': 1}\n"
   ]
  },
  {
   "cell_type": "code",
   "execution_count": null,
   "metadata": {},
   "outputs": [],
   "source": []
  },
  {
   "cell_type": "code",
   "execution_count": null,
   "metadata": {},
   "outputs": [],
   "source": []
  },
  {
   "cell_type": "code",
   "execution_count": null,
   "metadata": {},
   "outputs": [],
   "source": []
  }
 ],
 "metadata": {
  "kernelspec": {
   "display_name": "Python 3",
   "language": "python",
   "name": "python3"
  },
  "language_info": {
   "codemirror_mode": {
    "name": "ipython",
    "version": 3
   },
   "file_extension": ".py",
   "mimetype": "text/x-python",
   "name": "python",
   "nbconvert_exporter": "python",
   "pygments_lexer": "ipython3",
   "version": "3.11.2"
  },
  "orig_nbformat": 4
 },
 "nbformat": 4,
 "nbformat_minor": 2
}
