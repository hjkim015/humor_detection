{
 "cells": [
  {
   "cell_type": "code",
   "execution_count": 10,
   "id": "0f775d2b",
   "metadata": {},
   "outputs": [
    {
     "ename": "ModuleNotFoundError",
     "evalue": "No module named 'sklearn'",
     "output_type": "error",
     "traceback": [
      "\u001b[0;31m---------------------------------------------------------------------------\u001b[0m",
      "\u001b[0;31mModuleNotFoundError\u001b[0m                       Traceback (most recent call last)",
      "Cell \u001b[0;32mIn[10], line 13\u001b[0m\n\u001b[1;32m     11\u001b[0m \u001b[38;5;28;01mfrom\u001b[39;00m \u001b[38;5;21;01mtorch\u001b[39;00m\u001b[38;5;21;01m.\u001b[39;00m\u001b[38;5;21;01moptim\u001b[39;00m \u001b[38;5;28;01mimport\u001b[39;00m Adam\n\u001b[1;32m     12\u001b[0m \u001b[38;5;28;01mfrom\u001b[39;00m \u001b[38;5;21;01mtorch\u001b[39;00m\u001b[38;5;21;01m.\u001b[39;00m\u001b[38;5;21;01mautograd\u001b[39;00m \u001b[38;5;28;01mimport\u001b[39;00m Variable\n\u001b[0;32m---> 13\u001b[0m \u001b[38;5;28;01mfrom\u001b[39;00m \u001b[38;5;21;01msklearn\u001b[39;00m\u001b[38;5;21;01m.\u001b[39;00m\u001b[38;5;21;01mmodel_selection\u001b[39;00m \u001b[38;5;28;01mimport\u001b[39;00m train_test_split\n",
      "\u001b[0;31mModuleNotFoundError\u001b[0m: No module named 'sklearn'"
     ]
    }
   ],
   "source": [
    "import os\n",
    "import numpy as np\n",
    "import torch\n",
    "import glob\n",
    "import torchvision\n",
    "import pathlib\n",
    "import torch.nn as nn\n",
    "\n",
    "from torchvision.transforms import transforms\n",
    "from torch.utils.data import DataLoader\n",
    "from torch.optim import Adam\n",
    "from torch.autograd import Variable\n",
    "from sklearn.model_selection import train_test_split"
   ]
  },
  {
   "cell_type": "code",
   "execution_count": null,
   "id": "d299323a",
   "metadata": {},
   "outputs": [],
   "source": [
    "#Perform a 80/20 train test split and split into different directories\n",
    "import pandas as pd\n",
    "import os\n",
    "\n",
    "# Read the CSV file into a Pandas dataframe\n",
    "df = pd.read_csv('labels.csv')\n",
    "\n",
    "# Split the data into train and test sets\n",
    "train_df, test_df = train_test_split(df, test_size=0.2, stratify=df['class_label'])\n",
    "\n",
    "# Create directories for the train and test sets\n",
    "os.makedirs('train/0', exist_ok=True)\n",
    "os.makedirs('train/1', exist_ok=True)\n",
    "os.makedirs('test/0', exist_ok=True)\n",
    "os.makedirs('test/1', exist_ok=True)\n",
    "\n",
    "# Copy the images into the train and test directories based on their class label\n",
    "for index, row in train_df.iterrows():\n",
    "    source_path = os.path.join('images', row['filename'])\n",
    "    if row['class_label'] == 0:\n",
    "        destination_path = os.path.join('train', '0', row['filename'])\n",
    "    else:\n",
    "        destination_path = os.path.join('train', '1', row['filename'])\n",
    "    shutil.copy(source_path, destination_path)\n",
    "\n",
    "for index, row in test_df.iterrows():\n",
    "    source_path = os.path.join('images', row['filename'])\n",
    "    if row['class_label'] == 0:\n",
    "        destination_path = os.path.join('test', '0', row['filename'])\n",
    "    else:\n",
    "        destination_path = os.path.join('test', '1', row['filename'])\n",
    "    shutil.copy(source_path, destination_path)\n"
   ]
  },
  {
   "cell_type": "code",
   "execution_count": 4,
   "id": "1e55790f",
   "metadata": {},
   "outputs": [],
   "source": [
    "#Checking for device\n",
    "device=torch.device('cuda' if torch.cuda.is_available() else 'cpu'\n",
    "        )"
   ]
  },
  {
   "cell_type": "code",
   "execution_count": 6,
   "id": "71315ef3",
   "metadata": {},
   "outputs": [
    {
     "name": "stdout",
     "output_type": "stream",
     "text": [
      "cpu\n"
     ]
    }
   ],
   "source": [
    "print(device)"
   ]
  },
  {
   "cell_type": "code",
   "execution_count": 7,
   "id": "3f27328d",
   "metadata": {},
   "outputs": [],
   "source": [
    "#Transforms normalize our data and add variation \n",
    "\n",
    "transformer=transforms.Compose([\n",
    "    transforms.Resize((150,150)),\n",
    "    transforms.RandomHorizontalFlip(),\n",
    "    transforms.ToTensor(),\n",
    "    transforms.Normalize([0.5, 0.5, 0.5],\n",
    "                        [0.5, 0.5, 0.5]) \n",
    "])"
   ]
  },
  {
   "cell_type": "code",
   "execution_count": null,
   "id": "dd7072f1",
   "metadata": {},
   "outputs": [],
   "source": [
    "#DataLoader\n",
    "\n",
    "train_path = ''\n",
    "test_path = ''\n",
    "\n",
    "\n",
    "train_loader=Dataloader(\n",
    "    torchvision.datasets.ImageFolder(train_path,transform=transformer),\n",
    "    batch_size=256, shuffle=True\n",
    "    )\n",
    "\n"
   ]
  },
  {
   "cell_type": "code",
   "execution_count": null,
   "id": "2b0a5ae1",
   "metadata": {},
   "outputs": [],
   "source": []
  },
  {
   "cell_type": "code",
   "execution_count": null,
   "id": "4cf78dee",
   "metadata": {},
   "outputs": [],
   "source": []
  },
  {
   "cell_type": "code",
   "execution_count": null,
   "id": "5681653f",
   "metadata": {},
   "outputs": [],
   "source": []
  }
 ],
 "metadata": {
  "kernelspec": {
   "display_name": "Python 3 (ipykernel)",
   "language": "python",
   "name": "python3"
  },
  "language_info": {
   "codemirror_mode": {
    "name": "ipython",
    "version": 3
   },
   "file_extension": ".py",
   "mimetype": "text/x-python",
   "name": "python",
   "nbconvert_exporter": "python",
   "pygments_lexer": "ipython3",
   "version": "3.11.2"
  }
 },
 "nbformat": 4,
 "nbformat_minor": 5
}
