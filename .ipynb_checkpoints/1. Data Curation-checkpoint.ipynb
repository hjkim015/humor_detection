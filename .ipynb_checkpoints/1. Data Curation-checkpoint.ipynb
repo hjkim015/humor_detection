{
 "cells": [
  {
   "cell_type": "markdown",
   "id": "9f7e0d59",
   "metadata": {},
   "source": [
    "# Merging and Cleaning Data\n",
    "The purposes of this notebook is to compile all of the mturk data and control data into one final dataset that is ready to use for modeling. To keep things simple, we are doing a simple binary classification of funny or not. The truth value is determined by averaging the numerical values together. If an image is on the fence, I tiebreak it. "
   ]
  },
  {
   "cell_type": "code",
   "execution_count": 1,
   "id": "d2ff43e5",
   "metadata": {},
   "outputs": [],
   "source": [
    "import pandas as pd\n",
    "\n",
    "df_control = pd.read_csv('/Users/hannahkim/Desktop/neuro240/df_controls.csv')\n",
    "df_mturk = pd.read_csv('/Users/hannahkim/Desktop/neuro240/df_mturk.csv')"
   ]
  },
  {
   "cell_type": "markdown",
   "id": "1b374fa5",
   "metadata": {},
   "source": [
    "### Preparing the Control Dataset"
   ]
  },
  {
   "cell_type": "code",
   "execution_count": 2,
   "id": "0e707a4f",
   "metadata": {},
   "outputs": [
    {
     "data": {
      "text/plain": [
       "62"
      ]
     },
     "execution_count": 2,
     "metadata": {},
     "output_type": "execute_result"
    }
   ],
   "source": [
    "len(df_mturk.WorkerId.unique())"
   ]
  },
  {
   "cell_type": "code",
   "execution_count": 3,
   "id": "c4b361b5",
   "metadata": {
    "scrolled": true
   },
   "outputs": [
    {
     "data": {
      "text/html": [
       "<div>\n",
       "<style scoped>\n",
       "    .dataframe tbody tr th:only-of-type {\n",
       "        vertical-align: middle;\n",
       "    }\n",
       "\n",
       "    .dataframe tbody tr th {\n",
       "        vertical-align: top;\n",
       "    }\n",
       "\n",
       "    .dataframe thead th {\n",
       "        text-align: right;\n",
       "    }\n",
       "</style>\n",
       "<table border=\"1\" class=\"dataframe\">\n",
       "  <thead>\n",
       "    <tr style=\"text-align: right;\">\n",
       "      <th></th>\n",
       "      <th>image_url</th>\n",
       "      <th>label1</th>\n",
       "      <th>label2</th>\n",
       "    </tr>\n",
       "  </thead>\n",
       "  <tbody>\n",
       "    <tr>\n",
       "      <th>1</th>\n",
       "      <td>https://humor-dataset.s3.us-east-2.amazonaws.c...</td>\n",
       "      <td>6</td>\n",
       "      <td>3</td>\n",
       "    </tr>\n",
       "    <tr>\n",
       "      <th>2</th>\n",
       "      <td>https://humor-dataset.s3.us-east-2.amazonaws.c...</td>\n",
       "      <td>3</td>\n",
       "      <td>2</td>\n",
       "    </tr>\n",
       "    <tr>\n",
       "      <th>3</th>\n",
       "      <td>https://humor-dataset.s3.us-east-2.amazonaws.c...</td>\n",
       "      <td>3</td>\n",
       "      <td>7</td>\n",
       "    </tr>\n",
       "    <tr>\n",
       "      <th>4</th>\n",
       "      <td>https://humor-dataset.s3.us-east-2.amazonaws.c...</td>\n",
       "      <td>3</td>\n",
       "      <td>2</td>\n",
       "    </tr>\n",
       "    <tr>\n",
       "      <th>5</th>\n",
       "      <td>https://humor-dataset.s3.us-east-2.amazonaws.c...</td>\n",
       "      <td>6</td>\n",
       "      <td>2</td>\n",
       "    </tr>\n",
       "    <tr>\n",
       "      <th>...</th>\n",
       "      <td>...</td>\n",
       "      <td>...</td>\n",
       "      <td>...</td>\n",
       "    </tr>\n",
       "    <tr>\n",
       "      <th>1854</th>\n",
       "      <td>https://humor-dataset.s3.us-east-2.amazonaws.c...</td>\n",
       "      <td>3</td>\n",
       "      <td>4</td>\n",
       "    </tr>\n",
       "    <tr>\n",
       "      <th>1855</th>\n",
       "      <td>https://humor-dataset.s3.us-east-2.amazonaws.c...</td>\n",
       "      <td>2</td>\n",
       "      <td>3</td>\n",
       "    </tr>\n",
       "    <tr>\n",
       "      <th>1856</th>\n",
       "      <td>https://humor-dataset.s3.us-east-2.amazonaws.c...</td>\n",
       "      <td>1</td>\n",
       "      <td>7</td>\n",
       "    </tr>\n",
       "    <tr>\n",
       "      <th>1857</th>\n",
       "      <td>https://humor-dataset.s3.us-east-2.amazonaws.c...</td>\n",
       "      <td>6</td>\n",
       "      <td>5</td>\n",
       "    </tr>\n",
       "    <tr>\n",
       "      <th>1858</th>\n",
       "      <td>https://humor-dataset.s3.us-east-2.amazonaws.c...</td>\n",
       "      <td>6</td>\n",
       "      <td>3</td>\n",
       "    </tr>\n",
       "  </tbody>\n",
       "</table>\n",
       "<p>1858 rows × 3 columns</p>\n",
       "</div>"
      ],
      "text/plain": [
       "0                                             image_url label1 label2\n",
       "1     https://humor-dataset.s3.us-east-2.amazonaws.c...      6      3\n",
       "2     https://humor-dataset.s3.us-east-2.amazonaws.c...      3      2\n",
       "3     https://humor-dataset.s3.us-east-2.amazonaws.c...      3      7\n",
       "4     https://humor-dataset.s3.us-east-2.amazonaws.c...      3      2\n",
       "5     https://humor-dataset.s3.us-east-2.amazonaws.c...      6      2\n",
       "...                                                 ...    ...    ...\n",
       "1854  https://humor-dataset.s3.us-east-2.amazonaws.c...      3      4\n",
       "1855  https://humor-dataset.s3.us-east-2.amazonaws.c...      2      3\n",
       "1856  https://humor-dataset.s3.us-east-2.amazonaws.c...      1      7\n",
       "1857  https://humor-dataset.s3.us-east-2.amazonaws.c...      6      5\n",
       "1858  https://humor-dataset.s3.us-east-2.amazonaws.c...      6      3\n",
       "\n",
       "[1858 rows x 3 columns]"
      ]
     },
     "execution_count": 3,
     "metadata": {},
     "output_type": "execute_result"
    }
   ],
   "source": [
    "df_control.columns=df_control.iloc[0]\n",
    "df_control = df_control.iloc[1: , :3]\n",
    "\n",
    "df_control = df_control.rename(columns={\n",
    "    'image_url': 'image_url',\n",
    "    'Control1': 'label1',\n",
    "    'Control2': 'label2'\n",
    "})\n",
    "\n",
    "df_control"
   ]
  },
  {
   "cell_type": "markdown",
   "id": "05b94df7",
   "metadata": {},
   "source": [
    "### Preparing the Mturk Dataset "
   ]
  },
  {
   "cell_type": "code",
   "execution_count": 4,
   "id": "7eaae4f4",
   "metadata": {},
   "outputs": [
    {
     "name": "stdout",
     "output_type": "stream",
     "text": [
      "<class 'pandas.core.frame.DataFrame'>\n",
      "RangeIndex: 3720 entries, 0 to 3719\n",
      "Data columns (total 32 columns):\n",
      " #   Column                       Non-Null Count  Dtype  \n",
      "---  ------                       --------------  -----  \n",
      " 0   HITId                        3720 non-null   object \n",
      " 1   HITTypeId                    3720 non-null   object \n",
      " 2   Title                        3720 non-null   object \n",
      " 3   Description                  3720 non-null   object \n",
      " 4   Keywords                     3720 non-null   object \n",
      " 5   Reward                       3720 non-null   object \n",
      " 6   CreationTime                 3720 non-null   object \n",
      " 7   MaxAssignments               3720 non-null   int64  \n",
      " 8   RequesterAnnotation          3720 non-null   object \n",
      " 9   AssignmentDurationInSeconds  3720 non-null   int64  \n",
      " 10  AutoApprovalDelayInSeconds   3720 non-null   int64  \n",
      " 11  Expiration                   3720 non-null   object \n",
      " 12  NumberOfSimilarHITs          0 non-null      float64\n",
      " 13  LifetimeInSeconds            0 non-null      float64\n",
      " 14  AssignmentId                 3720 non-null   object \n",
      " 15  WorkerId                     3720 non-null   object \n",
      " 16  AssignmentStatus             3720 non-null   object \n",
      " 17  AcceptTime                   3720 non-null   object \n",
      " 18  SubmitTime                   3720 non-null   object \n",
      " 19  AutoApprovalTime             3720 non-null   object \n",
      " 20  ApprovalTime                 3720 non-null   object \n",
      " 21  RejectionTime                0 non-null      float64\n",
      " 22  RequesterFeedback            0 non-null      float64\n",
      " 23  WorkTimeInSeconds            3720 non-null   int64  \n",
      " 24  LifetimeApprovalRate         3720 non-null   object \n",
      " 25  Last30DaysApprovalRate       3720 non-null   object \n",
      " 26  Last7DaysApprovalRate        3720 non-null   object \n",
      " 27  Input.image_url              3720 non-null   object \n",
      " 28  Answer.howMuch               3720 non-null   float64\n",
      " 29  Answer.tag1                  3720 non-null   object \n",
      " 30  Approve                      0 non-null      float64\n",
      " 31  Reject                       0 non-null      float64\n",
      "dtypes: float64(7), int64(4), object(21)\n",
      "memory usage: 930.1+ KB\n"
     ]
    }
   ],
   "source": [
    "df_mturk.info()"
   ]
  },
  {
   "cell_type": "code",
   "execution_count": 5,
   "id": "f8ca5c39",
   "metadata": {},
   "outputs": [],
   "source": [
    "#Update the image urls, remove the other data \n",
    "def extract_image_label(link):\n",
    "    parts = link.split('/')\n",
    "    return parts[-1]\n",
    "\n",
    "df_mturk['Input.image_url'] = df_mturk['Input.image_url'].apply(extract_image_label)"
   ]
  },
  {
   "cell_type": "code",
   "execution_count": 6,
   "id": "0fe74fab",
   "metadata": {},
   "outputs": [],
   "source": [
    "\n",
    "df_mturk = df_mturk[['Input.image_url', 'Answer.howMuch', 'Answer.tag1']]\n",
    "\n",
    "df_mturk = df_mturk.rename(columns={\n",
    "    'Input.image_url': 'image_url',\n",
    "    'Answer.howMuch': 'label',\n",
    "    'Answer.tag1': 'description'\n",
    "})\n"
   ]
  },
  {
   "cell_type": "code",
   "execution_count": 7,
   "id": "709c344b",
   "metadata": {},
   "outputs": [],
   "source": [
    "#Split the dataset in half because there are two assignments per image \n",
    "\n",
    "df_1 = df_mturk[::2]\n",
    "df_1 = df_1.rename(columns={\n",
    "    'image_url': 'image',\n",
    "    'label': 'label1',\n",
    "    'description': 'description1'\n",
    "})\n",
    "\n",
    "df_2 = df_mturk[1::2]\n",
    "df_2 = df_2.rename(columns={\n",
    "    'image_url': 'image',\n",
    "    'label': 'label2',\n",
    "    'description': 'description2'\n",
    "})"
   ]
  },
  {
   "cell_type": "code",
   "execution_count": 8,
   "id": "603ff8d3",
   "metadata": {
    "scrolled": true
   },
   "outputs": [
    {
     "data": {
      "text/html": [
       "<div>\n",
       "<style scoped>\n",
       "    .dataframe tbody tr th:only-of-type {\n",
       "        vertical-align: middle;\n",
       "    }\n",
       "\n",
       "    .dataframe tbody tr th {\n",
       "        vertical-align: top;\n",
       "    }\n",
       "\n",
       "    .dataframe thead th {\n",
       "        text-align: right;\n",
       "    }\n",
       "</style>\n",
       "<table border=\"1\" class=\"dataframe\">\n",
       "  <thead>\n",
       "    <tr style=\"text-align: right;\">\n",
       "      <th></th>\n",
       "      <th>image</th>\n",
       "      <th>label1</th>\n",
       "      <th>label2</th>\n",
       "      <th>description1</th>\n",
       "      <th>description2</th>\n",
       "    </tr>\n",
       "  </thead>\n",
       "  <tbody>\n",
       "    <tr>\n",
       "      <th>0</th>\n",
       "      <td>image1305.jpg</td>\n",
       "      <td>4.8</td>\n",
       "      <td>3.7</td>\n",
       "      <td>Hammering eggs</td>\n",
       "      <td>feel hard</td>\n",
       "    </tr>\n",
       "    <tr>\n",
       "      <th>1</th>\n",
       "      <td>image1319.jpg</td>\n",
       "      <td>2.2</td>\n",
       "      <td>3.7</td>\n",
       "      <td>67 but never grew up</td>\n",
       "      <td>a disguised middle finger</td>\n",
       "    </tr>\n",
       "    <tr>\n",
       "      <th>2</th>\n",
       "      <td>image1388.jpg</td>\n",
       "      <td>8.0</td>\n",
       "      <td>8.0</td>\n",
       "      <td>Might be a fan but hot</td>\n",
       "      <td>Man in orange costume.</td>\n",
       "    </tr>\n",
       "    <tr>\n",
       "      <th>3</th>\n",
       "      <td>image782.jpg</td>\n",
       "      <td>1.0</td>\n",
       "      <td>1.0</td>\n",
       "      <td>This is a good art photo</td>\n",
       "      <td>thought process</td>\n",
       "    </tr>\n",
       "    <tr>\n",
       "      <th>4</th>\n",
       "      <td>image454.jpg</td>\n",
       "      <td>8.5</td>\n",
       "      <td>5.5</td>\n",
       "      <td>cultural appropriation</td>\n",
       "      <td>man</td>\n",
       "    </tr>\n",
       "    <tr>\n",
       "      <th>...</th>\n",
       "      <td>...</td>\n",
       "      <td>...</td>\n",
       "      <td>...</td>\n",
       "      <td>...</td>\n",
       "      <td>...</td>\n",
       "    </tr>\n",
       "    <tr>\n",
       "      <th>1855</th>\n",
       "      <td>image1303.jpg</td>\n",
       "      <td>2.2</td>\n",
       "      <td>1.4</td>\n",
       "      <td>who's blowing?</td>\n",
       "      <td>balloons</td>\n",
       "    </tr>\n",
       "    <tr>\n",
       "      <th>1856</th>\n",
       "      <td>image627.jpg</td>\n",
       "      <td>6.6</td>\n",
       "      <td>5.7</td>\n",
       "      <td>Halloween costume Dora</td>\n",
       "      <td>The person's face</td>\n",
       "    </tr>\n",
       "    <tr>\n",
       "      <th>1857</th>\n",
       "      <td>image177.jpg</td>\n",
       "      <td>2.5</td>\n",
       "      <td>4.7</td>\n",
       "      <td>they are cute</td>\n",
       "      <td>Giraffes standing close.</td>\n",
       "    </tr>\n",
       "    <tr>\n",
       "      <th>1858</th>\n",
       "      <td>image1029.jpg</td>\n",
       "      <td>6.8</td>\n",
       "      <td>7.8</td>\n",
       "      <td>walking under monster</td>\n",
       "      <td>Hunting a giant.</td>\n",
       "    </tr>\n",
       "    <tr>\n",
       "      <th>1859</th>\n",
       "      <td>image1421.jpg</td>\n",
       "      <td>8.6</td>\n",
       "      <td>8.5</td>\n",
       "      <td>All he can do is try</td>\n",
       "      <td>fitness dream</td>\n",
       "    </tr>\n",
       "  </tbody>\n",
       "</table>\n",
       "<p>1860 rows × 5 columns</p>\n",
       "</div>"
      ],
      "text/plain": [
       "              image  label1  label2              description1  \\\n",
       "0     image1305.jpg     4.8     3.7            Hammering eggs   \n",
       "1     image1319.jpg     2.2     3.7      67 but never grew up   \n",
       "2     image1388.jpg     8.0     8.0    Might be a fan but hot   \n",
       "3      image782.jpg     1.0     1.0  This is a good art photo   \n",
       "4      image454.jpg     8.5     5.5    cultural appropriation   \n",
       "...             ...     ...     ...                       ...   \n",
       "1855  image1303.jpg     2.2     1.4            who's blowing?   \n",
       "1856   image627.jpg     6.6     5.7    Halloween costume Dora   \n",
       "1857   image177.jpg     2.5     4.7             they are cute   \n",
       "1858  image1029.jpg     6.8     7.8     walking under monster   \n",
       "1859  image1421.jpg     8.6     8.5      All he can do is try   \n",
       "\n",
       "                   description2  \n",
       "0                     feel hard  \n",
       "1     a disguised middle finger  \n",
       "2        Man in orange costume.  \n",
       "3               thought process  \n",
       "4                           man  \n",
       "...                         ...  \n",
       "1855                   balloons  \n",
       "1856          The person's face  \n",
       "1857   Giraffes standing close.  \n",
       "1858           Hunting a giant.  \n",
       "1859              fitness dream  \n",
       "\n",
       "[1860 rows x 5 columns]"
      ]
     },
     "execution_count": 8,
     "metadata": {},
     "output_type": "execute_result"
    }
   ],
   "source": [
    "#Merge the two together in nicer formatting\n",
    "df_mturk = pd.merge(df_1, df_2, on='image')\n",
    "df_mturk = df_mturk[['image', 'label1', 'label2', 'description1', 'description2']]\n",
    "df_mturk"
   ]
  },
  {
   "cell_type": "markdown",
   "id": "899a6944",
   "metadata": {},
   "source": [
    "### Combining Control and Mturk"
   ]
  },
  {
   "cell_type": "code",
   "execution_count": 9,
   "id": "75257216",
   "metadata": {},
   "outputs": [],
   "source": [
    "df_control['image_url'] = df_control['image_url'].apply(extract_image_label)\n",
    "df_control = df_control.rename(columns={\n",
    "    'image_url': 'image',\n",
    "    'label1' : 'control1',\n",
    "    'label2' : 'control2'\n",
    "})\n"
   ]
  },
  {
   "cell_type": "code",
   "execution_count": 10,
   "id": "8c8a668d",
   "metadata": {
    "scrolled": true
   },
   "outputs": [],
   "source": [
    "df = pd.merge(df_control, df_mturk, on='image')"
   ]
  },
  {
   "cell_type": "markdown",
   "id": "1a5f3b6d",
   "metadata": {},
   "source": [
    "# Dataset Exploration"
   ]
  },
  {
   "cell_type": "markdown",
   "id": "a7160a65",
   "metadata": {},
   "source": [
    "Truth values are determined taking into account the average and variance of an image. If there is general consensus on an image's funnines, like variation <= 2, or all below 5, then the average is taken. Otherwise, greater weight is placed"
   ]
  },
  {
   "cell_type": "code",
   "execution_count": 11,
   "id": "a10a23d8",
   "metadata": {},
   "outputs": [
    {
     "name": "stderr",
     "output_type": "stream",
     "text": [
      "/var/folders/6k/5g3ts93560d8sc8nx0f2k9z40000gn/T/ipykernel_84866/1520081221.py:4: FutureWarning: Dropping of nuisance columns in DataFrame reductions (with 'numeric_only=None') is deprecated; in a future version this will raise TypeError.  Select only valid columns before calling the reduction.\n",
      "  df['avg'] = df[['control1', 'control2', 'label1','label2']].mean(axis=1)\n"
     ]
    }
   ],
   "source": [
    "import matplotlib.pyplot as plt\n",
    "\n",
    "#Convert to correct datatype\n",
    "df['avg'] = df[['control1', 'control2', 'label1','label2']].mean(axis=1)\n",
    "df['control1'] = df['control1'].astype(float)\n",
    "df['control2'] = df['control2'].astype(float)"
   ]
  },
  {
   "cell_type": "code",
   "execution_count": 23,
   "id": "29976863",
   "metadata": {},
   "outputs": [
    {
     "data": {
      "image/png": "[encoded data removed]",
      "text/plain": [
       "<Figure size 640x480 with 2 Axes>"
      ]
     },
     "metadata": {},
     "output_type": "display_data"
    }
   ],
   "source": [
    "import matplotlib.pyplot as plt\n",
    "import numpy as np\n",
    "\n",
    "df[['control1', 'control2']].plot.hist(subplots=True, color='grey', bins=10)\n",
    "plt.ylim(0, 1000)\n",
    "plt.show()\n"
   ]
  },
  {
   "cell_type": "code",
   "execution_count": 24,
   "id": "852cd202",
   "metadata": {},
   "outputs": [
    {
     "data": {
      "image/png": "[encoded data removed]",
      "text/plain": [
       "<Figure size 640x480 with 2 Axes>"
      ]
     },
     "metadata": {},
     "output_type": "display_data"
    }
   ],
   "source": [
    "df[['label1', 'label2']].plot.hist(subplots=True, color='grey', bins=10)\n",
    "plt.show()"
   ]
  },
  {
   "cell_type": "code",
   "execution_count": 26,
   "id": "4ea15012",
   "metadata": {},
   "outputs": [
    {
     "data": {
      "image/png": "[encoded data removed]",
      "text/plain": [
       "<Figure size 640x480 with 1 Axes>"
      ]
     },
     "metadata": {},
     "output_type": "display_data"
    }
   ],
   "source": [
    "df[['avg']].plot.hist(subplots=True, color='grey', bins=10)\n",
    "plt.show()"
   ]
  },
  {
   "cell_type": "code",
   "execution_count": 27,
   "id": "ce2e1ce7",
   "metadata": {},
   "outputs": [
    {
     "data": {
      "text/html": [
       "<div>\n",
       "<style scoped>\n",
       "    .dataframe tbody tr th:only-of-type {\n",
       "        vertical-align: middle;\n",
       "    }\n",
       "\n",
       "    .dataframe tbody tr th {\n",
       "        vertical-align: top;\n",
       "    }\n",
       "\n",
       "    .dataframe thead th {\n",
       "        text-align: right;\n",
       "    }\n",
       "</style>\n",
       "<table border=\"1\" class=\"dataframe\">\n",
       "  <thead>\n",
       "    <tr style=\"text-align: right;\">\n",
       "      <th></th>\n",
       "      <th>image</th>\n",
       "      <th>control1</th>\n",
       "      <th>control2</th>\n",
       "      <th>label1</th>\n",
       "      <th>label2</th>\n",
       "      <th>description1</th>\n",
       "      <th>description2</th>\n",
       "      <th>avg</th>\n",
       "    </tr>\n",
       "  </thead>\n",
       "  <tbody>\n",
       "    <tr>\n",
       "      <th>0</th>\n",
       "      <td>image478.jpg</td>\n",
       "      <td>6.0</td>\n",
       "      <td>3.0</td>\n",
       "      <td>5.2</td>\n",
       "      <td>7.8</td>\n",
       "      <td>Bra's of joy</td>\n",
       "      <td>Covered in bras.</td>\n",
       "      <td>6.50</td>\n",
       "    </tr>\n",
       "    <tr>\n",
       "      <th>1</th>\n",
       "      <td>image336.jpg</td>\n",
       "      <td>3.0</td>\n",
       "      <td>2.0</td>\n",
       "      <td>1.3</td>\n",
       "      <td>6.4</td>\n",
       "      <td>Amazonians</td>\n",
       "      <td>Happy family time</td>\n",
       "      <td>3.85</td>\n",
       "    </tr>\n",
       "    <tr>\n",
       "      <th>2</th>\n",
       "      <td>image450.jpg</td>\n",
       "      <td>3.0</td>\n",
       "      <td>7.0</td>\n",
       "      <td>3.0</td>\n",
       "      <td>7.7</td>\n",
       "      <td>Must have been a relative</td>\n",
       "      <td>Oranges have funeral.</td>\n",
       "      <td>5.35</td>\n",
       "    </tr>\n",
       "    <tr>\n",
       "      <th>3</th>\n",
       "      <td>image1781.jpg</td>\n",
       "      <td>3.0</td>\n",
       "      <td>2.0</td>\n",
       "      <td>8.4</td>\n",
       "      <td>7.6</td>\n",
       "      <td>Train waiting too.</td>\n",
       "      <td>Train is waiting too.</td>\n",
       "      <td>8.00</td>\n",
       "    </tr>\n",
       "    <tr>\n",
       "      <th>4</th>\n",
       "      <td>image1795.jpg</td>\n",
       "      <td>6.0</td>\n",
       "      <td>2.0</td>\n",
       "      <td>1.0</td>\n",
       "      <td>7.8</td>\n",
       "      <td>I hate dogs.</td>\n",
       "      <td>Dogs hiding in blanket.</td>\n",
       "      <td>4.40</td>\n",
       "    </tr>\n",
       "    <tr>\n",
       "      <th>...</th>\n",
       "      <td>...</td>\n",
       "      <td>...</td>\n",
       "      <td>...</td>\n",
       "      <td>...</td>\n",
       "      <td>...</td>\n",
       "      <td>...</td>\n",
       "      <td>...</td>\n",
       "      <td>...</td>\n",
       "    </tr>\n",
       "    <tr>\n",
       "      <th>1853</th>\n",
       "      <td>image449.jpg</td>\n",
       "      <td>3.0</td>\n",
       "      <td>4.0</td>\n",
       "      <td>7.1</td>\n",
       "      <td>7.8</td>\n",
       "      <td>God as funny old man</td>\n",
       "      <td>God is confused.</td>\n",
       "      <td>7.45</td>\n",
       "    </tr>\n",
       "    <tr>\n",
       "      <th>1854</th>\n",
       "      <td>image307.jpg</td>\n",
       "      <td>2.0</td>\n",
       "      <td>3.0</td>\n",
       "      <td>4.3</td>\n",
       "      <td>2.9</td>\n",
       "      <td>Child playing a game</td>\n",
       "      <td>Boy playing video game.</td>\n",
       "      <td>3.60</td>\n",
       "    </tr>\n",
       "    <tr>\n",
       "      <th>1855</th>\n",
       "      <td>image461.jpg</td>\n",
       "      <td>1.0</td>\n",
       "      <td>7.0</td>\n",
       "      <td>2.8</td>\n",
       "      <td>6.7</td>\n",
       "      <td>Lady laughing</td>\n",
       "      <td>Woman is happy.</td>\n",
       "      <td>4.75</td>\n",
       "    </tr>\n",
       "    <tr>\n",
       "      <th>1856</th>\n",
       "      <td>image475.jpg</td>\n",
       "      <td>6.0</td>\n",
       "      <td>5.0</td>\n",
       "      <td>10.0</td>\n",
       "      <td>7.8</td>\n",
       "      <td>goat tongue out</td>\n",
       "      <td>Goat wearing glasses.</td>\n",
       "      <td>8.90</td>\n",
       "    </tr>\n",
       "    <tr>\n",
       "      <th>1857</th>\n",
       "      <td>image313.jpg</td>\n",
       "      <td>6.0</td>\n",
       "      <td>3.0</td>\n",
       "      <td>5.3</td>\n",
       "      <td>6.0</td>\n",
       "      <td>spaced out</td>\n",
       "      <td>Always ready to jump/fall</td>\n",
       "      <td>5.65</td>\n",
       "    </tr>\n",
       "  </tbody>\n",
       "</table>\n",
       "<p>1858 rows × 8 columns</p>\n",
       "</div>"
      ],
      "text/plain": [
       "              image  control1  control2  label1  label2  \\\n",
       "0      image478.jpg       6.0       3.0     5.2     7.8   \n",
       "1      image336.jpg       3.0       2.0     1.3     6.4   \n",
       "2      image450.jpg       3.0       7.0     3.0     7.7   \n",
       "3     image1781.jpg       3.0       2.0     8.4     7.6   \n",
       "4     image1795.jpg       6.0       2.0     1.0     7.8   \n",
       "...             ...       ...       ...     ...     ...   \n",
       "1853   image449.jpg       3.0       4.0     7.1     7.8   \n",
       "1854   image307.jpg       2.0       3.0     4.3     2.9   \n",
       "1855   image461.jpg       1.0       7.0     2.8     6.7   \n",
       "1856   image475.jpg       6.0       5.0    10.0     7.8   \n",
       "1857   image313.jpg       6.0       3.0     5.3     6.0   \n",
       "\n",
       "                   description1               description2   avg  \n",
       "0                  Bra's of joy           Covered in bras.  6.50  \n",
       "1                    Amazonians          Happy family time  3.85  \n",
       "2     Must have been a relative      Oranges have funeral.  5.35  \n",
       "3            Train waiting too.      Train is waiting too.  8.00  \n",
       "4                  I hate dogs.    Dogs hiding in blanket.  4.40  \n",
       "...                         ...                        ...   ...  \n",
       "1853       God as funny old man           God is confused.  7.45  \n",
       "1854       Child playing a game    Boy playing video game.  3.60  \n",
       "1855              Lady laughing            Woman is happy.  4.75  \n",
       "1856            goat tongue out      Goat wearing glasses.  8.90  \n",
       "1857                 spaced out  Always ready to jump/fall  5.65  \n",
       "\n",
       "[1858 rows x 8 columns]"
      ]
     },
     "execution_count": 27,
     "metadata": {},
     "output_type": "execute_result"
    }
   ],
   "source": [
    "df['label'] = df['avg'].apply(lambda x: 1 if x >= 5 else 0)"
   ]
  }
 ],
 "metadata": {
  "kernelspec": {
   "display_name": "Python 3 (ipykernel)",
   "language": "python",
   "name": "python3"
  },
  "language_info": {
   "codemirror_mode": {
    "name": "ipython",
    "version": 3
   },
   "file_extension": ".py",
   "mimetype": "text/x-python",
   "name": "python",
   "nbconvert_exporter": "python",
   "pygments_lexer": "ipython3",
   "version": "3.11.2"
  }
 },
 "nbformat": 4,
 "nbformat_minor": 5
}
