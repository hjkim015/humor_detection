{
 "cells": [
  {
   "cell_type": "code",
   "execution_count": 9,
   "id": "b929d7e3",
   "metadata": {},
   "outputs": [],
   "source": [
    "import numpy as np\n",
    "import pandas as pd\n",
    "import urllib.request \n",
    "import ssl\n",
    "import os\n",
    "\n",
    "ssl._create_default_https_context = ssl._create_unverified_context\n"
   ]
  },
  {
   "cell_type": "code",
   "execution_count": 10,
   "id": "734e77f7",
   "metadata": {},
   "outputs": [],
   "source": [
    "most_funny = [10, 9, 8]\n",
    "funny = [7, 6, 5, 4]\n",
    "meh = [3,2,1]\n",
    "\n",
    "\n"
   ]
  },
  {
   "cell_type": "code",
   "execution_count": 38,
   "id": "c1d00499",
   "metadata": {},
   "outputs": [],
   "source": [
    "#Define some global variables \n",
    "strata1_path = '/Users/hannahkim/Desktop/neuro240/Labeling_500/Strata1_100/'\n",
    "strata2_path = '/Users/hannahkim/Desktop/neuro240/Labeling_500/Strata1_100/'\n",
    "strata3_path = '/Users/hannahkim/Desktop/neuro240/Labeling_500/Strata1_100/'\n",
    "strata4_path = '/Users/hannahkim/Desktop/neuro240/Labeling_500/Strata1_100/'\n",
    "strata5_path = '/Users/hannahkim/Desktop/neuro240/Labeling_500/Strata1_100/'\n",
    "# base = 'https://humor-dataset.s3.us-east-2.amazonaws.com/Strata1_100/'\n",
    "base = 'https://humor-dataset.s3.us-east-2.amazonaws.com/OriginalImages/'\n",
    "folder_path = '/Users/hannahkim/Desktop/neuro240/Original/'"
   ]
  },
  {
   "cell_type": "code",
   "execution_count": 39,
   "id": "08c39c4f",
   "metadata": {},
   "outputs": [
    {
     "data": {
      "text/html": [
       "<div>\n",
       "<style scoped>\n",
       "    .dataframe tbody tr th:only-of-type {\n",
       "        vertical-align: middle;\n",
       "    }\n",
       "\n",
       "    .dataframe tbody tr th {\n",
       "        vertical-align: top;\n",
       "    }\n",
       "\n",
       "    .dataframe thead th {\n",
       "        text-align: right;\n",
       "    }\n",
       "</style>\n",
       "<table border=\"1\" class=\"dataframe\">\n",
       "  <thead>\n",
       "    <tr style=\"text-align: right;\">\n",
       "      <th></th>\n",
       "      <th>image_url</th>\n",
       "    </tr>\n",
       "  </thead>\n",
       "  <tbody>\n",
       "  </tbody>\n",
       "</table>\n",
       "</div>"
      ],
      "text/plain": [
       "Empty DataFrame\n",
       "Columns: [image_url]\n",
       "Index: []"
      ]
     },
     "execution_count": 39,
     "metadata": {},
     "output_type": "execute_result"
    }
   ],
   "source": [
    "import pandas as pd\n",
    "df_links = pd.DataFrame()\n",
    "df_links['image_url'] = [] \n",
    "\n",
    "df_links"
   ]
  },
  {
   "cell_type": "code",
   "execution_count": 50,
   "id": "2643c073",
   "metadata": {},
   "outputs": [
    {
     "data": {
      "text/plain": [
       "'CLEANED!'"
      ]
     },
     "execution_count": 50,
     "metadata": {},
     "output_type": "execute_result"
    }
   ],
   "source": [
    "def rename_images(folder_path):\n",
    "    i = 1\n",
    "    for filename in os.listdir(folder_path):\n",
    "#         if (' ' in filename):\n",
    "#             print(\"Changing!:\", filename, '----------------------------------------')\n",
    "#             new_filename = filename.replace(\" \", \"\")\n",
    "#             os.rename(folder_path + filename, new_filename\n",
    "        os.rename(filename, f'image{i}.jpg')\n",
    "        i+=1\n",
    "    return 'DONE!'\n",
    "            \n",
    "rename_images(folder_path)"
   ]
  },
  {
   "cell_type": "code",
   "execution_count": 48,
   "id": "8b744ed9",
   "metadata": {},
   "outputs": [
    {
     "data": {
      "text/plain": [
       "1795"
      ]
     },
     "execution_count": 48,
     "metadata": {},
     "output_type": "execute_result"
    }
   ],
   "source": [
    "def get_s3_links(folder_path, base):\n",
    "    df = pd.DataFrame()\n",
    "    df['image_url'] = []    \n",
    "    for filename in os.listdir(folder_path):\n",
    "        df.loc[len(df.image_url)] = base + filename \n",
    "#         print(base + filename)\n",
    "    return df\n",
    "\n",
    "\n",
    "len(get_s3_links(folder_path, base))"
   ]
  },
  {
   "cell_type": "code",
   "execution_count": 27,
   "id": "d651393c",
   "metadata": {},
   "outputs": [
    {
     "name": "stdout",
     "output_type": "stream",
     "text": [
      "True\n"
     ]
    }
   ],
   "source": []
  },
  {
   "cell_type": "code",
   "execution_count": null,
   "id": "39c2672f",
   "metadata": {},
   "outputs": [],
   "source": []
  },
  {
   "cell_type": "code",
   "execution_count": null,
   "id": "add3b6d1",
   "metadata": {},
   "outputs": [],
   "source": []
  },
  {
   "cell_type": "code",
   "execution_count": null,
   "id": "d97e4bcc",
   "metadata": {},
   "outputs": [],
   "source": []
  },
  {
   "cell_type": "code",
   "execution_count": null,
   "id": "3a9793bc",
   "metadata": {},
   "outputs": [],
   "source": []
  }
 ],
 "metadata": {
  "kernelspec": {
   "display_name": "Python 3 (ipykernel)",
   "language": "python",
   "name": "python3"
  },
  "language_info": {
   "codemirror_mode": {
    "name": "ipython",
    "version": 3
   },
   "file_extension": ".py",
   "mimetype": "text/x-python",
   "name": "python",
   "nbconvert_exporter": "python",
   "pygments_lexer": "ipython3",
   "version": "3.11.2"
  }
 },
 "nbformat": 4,
 "nbformat_minor": 5
}
